{
 "cells": [
  {
   "attachments": {},
   "cell_type": "markdown",
   "metadata": {},
   "source": [
    "# Game Analysis"
   ]
  },
  {
   "cell_type": "code",
   "execution_count": 19,
   "metadata": {},
   "outputs": [],
   "source": [
    "from api_interface.login import login_and_get_token\n",
    "from api_interface.games import get_past_games, fetch_game\n",
    "from api_interface.game_analysis import analyse_game\n",
    "import matplotlib.pyplot as plt"
   ]
  },
  {
   "cell_type": "code",
   "execution_count": 20,
   "metadata": {},
   "outputs": [],
   "source": [
    "token = login_and_get_token()\n",
    "games = get_past_games(token)"
   ]
  },
  {
   "cell_type": "code",
   "execution_count": 21,
   "metadata": {},
   "outputs": [],
   "source": [
    "most_recent_id = games[0][\"id\"]\n",
    "game = fetch_game(token, most_recent_id)"
   ]
  },
  {
   "cell_type": "code",
   "execution_count": 23,
   "metadata": {},
   "outputs": [
    {
     "name": "stdout",
     "output_type": "stream",
     "text": [
      "### Game Statistics\n",
      "\n",
      "| # Moves | # Players | # Survivors |\n",
      "| --- | --- | --- |\n",
      "| 1617 | 42 | 20 |\n",
      "\n",
      "* Survive? ✅\n",
      "* Our health at the end of the game: 100\n",
      "* Last COD radius was 40\n",
      "* Distance to COD at end of game: 53.01\n",
      "* Inside COD at end of game: ❌\n"
     ]
    }
   ],
   "source": [
    "analyse_game(game)"
   ]
  },
  {
   "cell_type": "code",
   "execution_count": 18,
   "metadata": {},
   "outputs": [
    {
     "name": "stdout",
     "output_type": "stream",
     "text": [
      "   0  500\n",
      " 801  495\n",
      " 802  490\n",
      " 803  485\n",
      " 804  480\n",
      " 805  475\n",
      " 806  470\n",
      " 807  465\n",
      " 808  460\n",
      " 809  455\n",
      " 810  450\n",
      " 811  445\n",
      " 812  440\n",
      " 813  435\n",
      " 814  430\n",
      " 815  425\n",
      " 816  420\n",
      " 817  415\n",
      " 818  410\n",
      " 819  405\n",
      " 820  400\n",
      " 821  395\n",
      " 822  390\n",
      " 823  385\n",
      " 824  380\n",
      " 825  375\n",
      " 826  370\n",
      " 827  365\n",
      " 828  360\n",
      " 829  355\n",
      " 830  350\n",
      " 831  345\n",
      " 832  340\n",
      " 833  335\n",
      " 834  330\n",
      " 835  325\n",
      " 836  320\n",
      " 837  315\n",
      " 838  310\n",
      " 839  305\n",
      " 840  300\n",
      " 841  295\n",
      " 842  290\n",
      " 843  285\n",
      " 844  280\n",
      " 845  275\n",
      " 846  270\n",
      " 847  265\n",
      " 848  260\n",
      " 849  255\n",
      " 850  250\n",
      " 851  245\n",
      " 852  240\n",
      " 853  235\n",
      " 854  230\n",
      " 855  225\n",
      " 856  220\n",
      " 857  215\n",
      " 858  210\n",
      " 859  205\n",
      " 860  200\n",
      " 861  195\n",
      " 862  190\n",
      " 863  185\n",
      " 864  180\n",
      " 865  175\n",
      " 866  170\n",
      " 867  165\n",
      " 868  160\n",
      " 869  155\n",
      " 870  150\n",
      "1201  147\n",
      "1202  144\n",
      "1203  141\n",
      "1204  138\n",
      "1205  135\n",
      "1206  132\n",
      "1207  129\n",
      "1208  126\n",
      "1209  123\n",
      "1210  120\n",
      "1211  117\n",
      "1212  114\n",
      "1213  111\n",
      "1214  108\n",
      "1215  105\n",
      "1216  102\n",
      "1217   99\n",
      "1218   96\n",
      "1219   93\n",
      "1220   90\n",
      "1501   87\n",
      "1502   84\n",
      "1503   81\n",
      "1504   78\n",
      "1505   75\n",
      "1506   72\n",
      "1507   69\n",
      "1508   66\n",
      "1509   63\n",
      "1510   60\n",
      "1511   57\n",
      "1512   54\n",
      "1513   51\n",
      "1514   48\n",
      "1515   45\n",
      "1516   42\n",
      "1517   40\n"
     ]
    },
    {
     "data": {
      "text/plain": [
       "[<matplotlib.lines.Line2D at 0x7f9555365690>]"
      ]
     },
     "execution_count": 18,
     "metadata": {},
     "output_type": "execute_result"
    },
    {
     "data": {
      "image/png": "[encoded data removed]",
      "text/plain": [
       "<Figure size 640x480 with 1 Axes>"
      ]
     },
     "metadata": {},
     "output_type": "display_data"
    }
   ],
   "source": [
    "cod = [e for e in game if e[\"ty\"] == \"cod\"]\n",
    "\n",
    "prev_rad = 1000\n",
    "for c in cod:\n",
    "    r = c[\"r\"]\n",
    "    t = c[\"t\"]\n",
    "\n",
    "    if r != prev_rad:\n",
    "        print(f\"{t:4d}\", f\"{r:4d}\")\n",
    "        prev_rad = r\n",
    "plt.semilogy([e[\"t\"] for e in cod], [e[\"r\"] for e in cod])"
   ]
  }
 ],
 "metadata": {
  "kernelspec": {
   "display_name": "Python 3",
   "language": "python",
   "name": "python3"
  },
  "language_info": {
   "codemirror_mode": {
    "name": "ipython",
    "version": 3
   },
   "file_extension": ".py",
   "mimetype": "text/x-python",
   "name": "python",
   "nbconvert_exporter": "python",
   "pygments_lexer": "ipython3",
   "version": "3.11.3"
  },
  "orig_nbformat": 4
 },
 "nbformat": 4,
 "nbformat_minor": 2
}
